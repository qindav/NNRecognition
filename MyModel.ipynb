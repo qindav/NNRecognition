{
  "nbformat": 4,
  "nbformat_minor": 0,
  "metadata": {
    "colab": {
      "name": "MyModel.ipynb",
      "provenance": [],
      "collapsed_sections": []
    },
    "kernelspec": {
      "name": "python3",
      "display_name": "Python 3"
    }
  },
  "cells": [
    {
      "cell_type": "markdown",
      "metadata": {
        "id": "xUSgz8AbSD84",
        "colab_type": "text"
      },
      "source": [
        "**This portion processes the videos into frames to prepare for learning**"
      ]
    },
    {
      "cell_type": "markdown",
      "metadata": {
        "id": "DQBqrVlRRdle",
        "colab_type": "text"
      },
      "source": [
        "This code uses methods provided in this tutorial [here](https://www.analyticsvidhya.com/blog/2019/09/step-by-step-deep-learning-tutorial-video-classification-python/) in order to process videos and setting up the neural net. Credits go to Pulkit Sharma."
      ]
    },
    {
      "cell_type": "code",
      "metadata": {
        "id": "r9Jpw6vQJBWL",
        "colab_type": "code",
        "colab": {}
      },
      "source": [
        "# Lots of headers, though some may be unused rn\n",
        "import cv2\n",
        "import math\n",
        "import matplotlib.pyplot as plt\n",
        "%matplotlib inline\n",
        "import pandas as pd\n",
        "from keras.preprocessing import image\n",
        "import numpy as np\n",
        "from keras.utils import np_utils\n",
        "from skimage.transform import resize\n",
        "from sklearn.model_selection import train_test_split\n",
        "from glob import glob\n",
        "from tqdm import tqdm"
      ],
      "execution_count": 0,
      "outputs": []
    },
    {
      "cell_type": "code",
      "metadata": {
        "id": "J2nSB5zZSC6o",
        "colab_type": "code",
        "outputId": "a29d9954-b9fe-4549-b882-b28066dba522",
        "colab": {
          "base_uri": "https://localhost:8080/",
          "height": 54
        }
      },
      "source": [
        "from google.colab import drive\n",
        "drive.mount('/content/drive')"
      ],
      "execution_count": 6,
      "outputs": [
        {
          "output_type": "stream",
          "text": [
            "Drive already mounted at /content/drive; to attempt to forcibly remount, call drive.mount(\"/content/drive\", force_remount=True).\n"
          ],
          "name": "stdout"
        }
      ]
    },
    {
      "cell_type": "code",
      "metadata": {
        "id": "rPz3K1AmSa16",
        "colab_type": "code",
        "colab": {}
      },
      "source": [
        "cd drive/'My Drive'/Videos_DLP_v3"
      ],
      "execution_count": 0,
      "outputs": []
    },
    {
      "cell_type": "code",
      "metadata": {
        "id": "3GJVatLBSd_Y",
        "colab_type": "code",
        "colab": {}
      },
      "source": [
        "# Prepares stuff for training\n",
        "# open the .txt file which have names of training videos\n",
        "f = open(\"Train.txt\", \"r\")\n",
        "temp = f.read()\n",
        "videos = temp.split('\\n')\n",
        "\n",
        "# creating a dataframe using video names\n",
        "train = pd.DataFrame()\n",
        "train['video_name'] = videos\n",
        "train = train[:-1]\n",
        "train.head()"
      ],
      "execution_count": 0,
      "outputs": []
    },
    {
      "cell_type": "code",
      "metadata": {
        "id": "TJZcyc_P8Xsk",
        "colab_type": "code",
        "colab": {}
      },
      "source": [
        "# Prepares stuff for testing\n",
        "# open the .txt file which have names of test videos\n",
        "f = open(\"Test.txt\", \"r\")\n",
        "temp = f.read()\n",
        "videos = temp.split('\\n')\n",
        "\n",
        "# creating a dataframe having video names\n",
        "test = pd.DataFrame()\n",
        "test['video_name'] = videos\n",
        "test = test[:-1]\n",
        "test.head()"
      ],
      "execution_count": 0,
      "outputs": []
    },
    {
      "cell_type": "code",
      "metadata": {
        "id": "UziZo_4VSzeh",
        "colab_type": "code",
        "colab": {}
      },
      "source": [
        "# Tag creation here\n",
        "# creating tags for training videos\n",
        "train_video_tag = []\n",
        "for i in range(train.shape[0]):\n",
        "    train_video_tag.append(train['video_name'][i].split('/')[0])\n",
        "    \n",
        "train['tag'] = train_video_tag\n",
        "\n",
        "# creating tags for test videos\n",
        "test_video_tag = []\n",
        "for i in range(test.shape[0]):\n",
        "    test_video_tag.append(test['video_name'][i].split('/')[0])\n",
        "    \n",
        "test['tag'] = test_video_tag"
      ],
      "execution_count": 0,
      "outputs": []
    },
    {
      "cell_type": "code",
      "metadata": {
        "id": "h9SS08b_TtgQ",
        "colab_type": "code",
        "colab": {}
      },
      "source": [
        "# Breaks the video by frames for training set\n",
        "for i in tqdm(range(train.shape[0])):\n",
        "    count = 0\n",
        "    videoFile = train['video_name'][i]\n",
        "    cap = cv2.VideoCapture(videoFile.split(' ')[0])   # capturing the video from the given path\n",
        "    frameRate = cap.get(5) #frame rate\n",
        "    x=1\n",
        "    while(cap.isOpened()):\n",
        "        frameId = cap.get(1) #current frame number\n",
        "        ret, frame = cap.read()\n",
        "        if (ret != True):\n",
        "            break\n",
        "        if (frameId % math.floor(frameRate) == 0):\n",
        "            # storing the frames in a new folder named train_1\n",
        "            filename ='training/' + videoFile.split(' ')[0] +\"_frame%d.jpg\" % count;count+=1\n",
        "            cv2.imwrite(filename, frame)\n",
        "    cap.release()"
      ],
      "execution_count": 0,
      "outputs": []
    },
    {
      "cell_type": "code",
      "metadata": {
        "id": "YQAUB2cQVK36",
        "colab_type": "code",
        "colab": {}
      },
      "source": [
        "# getting the names of all the images for training set\n",
        "images = glob(\"training/*.jpg\")\n",
        "train_image = []\n",
        "train_class = []\n",
        "for i in tqdm(range(len(images))):\n",
        "    # creating the image name\n",
        "    train_image.append(images[i].split('/')[1])\n",
        "    # creating the class of image\n",
        "    vidclass = images[i].split('/')[1].split('_')[0]\n",
        "    train_class.append(vidclass.lower())\n",
        "    \n",
        "# storing the images and their class in a dataframe\n",
        "train_data = pd.DataFrame()\n",
        "train_data['image'] = train_image\n",
        "train_data['class'] = train_class \n",
        "\n",
        "# converting the dataframename into csv file \n",
        "print(train_data['class'])\n",
        "train_data.to_csv('training/trains.csv',header=True, index=False)"
      ],
      "execution_count": 0,
      "outputs": []
    },
    {
      "cell_type": "code",
      "metadata": {
        "id": "ciBQQEE4cgfs",
        "colab_type": "code",
        "colab": {}
      },
      "source": [
        "# Breaks the video by frames for testing set\n",
        "for i in tqdm(range(test.shape[0])):\n",
        "    count = 0\n",
        "    videoFile = test['video_name'][i]\n",
        "    cap = cv2.VideoCapture(videoFile.split(' ')[0])   # capturing the video from the given path\n",
        "    frameRate = cap.get(5) #frame rate\n",
        "    x=1\n",
        "    while(cap.isOpened()):\n",
        "        frameId = cap.get(1) #current frame number\n",
        "        ret, frame = cap.read()\n",
        "        if (ret != True):\n",
        "            break\n",
        "        # Save frames every second\n",
        "        if (frameId % math.floor(frameRate) == 0):\n",
        "            filename ='testing/' + videoFile.split(' ')[0] +\"_frame%d.jpg\" % count;count+=1\n",
        "            cv2.imwrite(filename, frame)\n",
        "    cap.release()"
      ],
      "execution_count": 0,
      "outputs": []
    },
    {
      "cell_type": "code",
      "metadata": {
        "id": "hQdYKlvWcrCj",
        "colab_type": "code",
        "colab": {}
      },
      "source": [
        "# getting the names of all the images for testing set\n",
        "images = glob(\"testing/*.jpg\")\n",
        "test_image = []\n",
        "test_class = []\n",
        "for i in tqdm(range(len(images))):\n",
        "    # creating the image name\n",
        "    test_image.append(images[i].split('/')[1])\n",
        "    # creating the class of image\n",
        "    vidclass = images[i].split('/')[1].split('_')[0]\n",
        "    test_class.append(vidclass.lower())\n",
        "    \n",
        "# storing the images and their class in a dataframe\n",
        "test_data = pd.DataFrame()\n",
        "test_data['image'] = test_image\n",
        "test_data['class'] = test_class \n",
        "\n",
        "# converting the dataframename into csv file \n",
        "print(test_data['class'])\n",
        "test_data.to_csv('testing/testings.csv',header=True, index=False)"
      ],
      "execution_count": 0,
      "outputs": []
    },
    {
      "cell_type": "markdown",
      "metadata": {
        "id": "Zp1BfqezdM2e",
        "colab_type": "text"
      },
      "source": [
        "**Get ready to train the model**"
      ]
    },
    {
      "cell_type": "code",
      "metadata": {
        "id": "CirotTL5ebeF",
        "colab_type": "code",
        "colab": {}
      },
      "source": [
        "import keras\n",
        "from keras.models import Sequential\n",
        "from keras.applications.vgg16 import VGG16\n",
        "from keras.layers import Dense, InputLayer, Dropout, Flatten\n",
        "from keras.layers import Conv2D, MaxPooling2D, GlobalMaxPooling2D\n",
        "from keras.preprocessing import image\n",
        "import numpy as np\n",
        "import pandas as pd\n",
        "import matplotlib.pyplot as plt\n",
        "from tqdm import tqdm\n",
        "from sklearn.model_selection import train_test_split"
      ],
      "execution_count": 0,
      "outputs": []
    },
    {
      "cell_type": "code",
      "metadata": {
        "id": "jDs8mt_7eihk",
        "colab_type": "code",
        "colab": {}
      },
      "source": [
        "ls"
      ],
      "execution_count": 0,
      "outputs": []
    },
    {
      "cell_type": "code",
      "metadata": {
        "id": "tdWm8k_3epAk",
        "colab_type": "code",
        "colab": {
          "base_uri": "https://localhost:8080/",
          "height": 34
        },
        "outputId": "8a8733df-11b6-49b0-fa09-e81ecebdefb9"
      },
      "source": [
        "train = pd.read_csv('training/trains.csv')\n",
        "train.head()\n",
        "# Setting up the frames here\n",
        "train_image = []\n",
        "\n",
        "# Processes the images here.\n",
        "for i in tqdm(range(train.shape[0])):\n",
        "    img = image.load_img('training/'+train['image'][i], target_size=(224,224,3))\n",
        "    img = image.img_to_array(img)\n",
        "    img = img/255\n",
        "    train_image.append(img)\n",
        "    \n",
        "# convert to np array\n",
        "X = np.array(train_image)"
      ],
      "execution_count": 21,
      "outputs": [
        {
          "output_type": "stream",
          "text": [
            "100%|██████████| 418/418 [00:07<00:00, 52.43it/s]\n"
          ],
          "name": "stderr"
        }
      ]
    },
    {
      "cell_type": "code",
      "metadata": {
        "id": "2MkJiV6jezG7",
        "colab_type": "code",
        "colab": {}
      },
      "source": [
        "# Creating validation set\n",
        "# separating the target\n",
        "y = train['class']\n",
        "\n",
        "# creating the training and validation set\n",
        "X_train, X_test, y_train, y_test = train_test_split(X, y, random_state=42, test_size=0.2, stratify = y)\n",
        "\n",
        "# creating dummies of target variable for train and validation set\n",
        "y_train = pd.get_dummies(y_train)\n",
        "y_test = pd.get_dummies(y_test)"
      ],
      "execution_count": 0,
      "outputs": []
    },
    {
      "cell_type": "code",
      "metadata": {
        "id": "CDZ8QnrBe2UK",
        "colab_type": "code",
        "colab": {}
      },
      "source": [
        "# Creating the base model of pre-trained VGG16 model\n",
        "# This is one form of CNN that can be used on each frame individually \n",
        "base_model = VGG16(weights='imagenet', include_top=False)"
      ],
      "execution_count": 0,
      "outputs": []
    },
    {
      "cell_type": "code",
      "metadata": {
        "id": "i-_gi80ZwpmO",
        "colab_type": "code",
        "colab": {}
      },
      "source": [
        "X_train = base_model.predict(X_train) # extracting features for training frames\n",
        "X_test = base_model.predict(X_test) # extracting features for testing frames"
      ],
      "execution_count": 0,
      "outputs": []
    },
    {
      "cell_type": "code",
      "metadata": {
        "id": "cS-bRg5Hu3d4",
        "colab_type": "code",
        "colab": {
          "base_uri": "https://localhost:8080/",
          "height": 34
        },
        "outputId": "a68af17f-abdf-45f7-dd62-dadbc25c4e8b"
      },
      "source": [
        "X_train.shape"
      ],
      "execution_count": 27,
      "outputs": [
        {
          "output_type": "execute_result",
          "data": {
            "text/plain": [
              "(334, 7, 7, 512)"
            ]
          },
          "metadata": {
            "tags": []
          },
          "execution_count": 27
        }
      ]
    },
    {
      "cell_type": "code",
      "metadata": {
        "id": "qcND3q0Zu8Nt",
        "colab_type": "code",
        "colab": {
          "base_uri": "https://localhost:8080/",
          "height": 34
        },
        "outputId": "7327e770-0b11-4495-984e-9e6c206bd2e4"
      },
      "source": [
        "X_test.shape"
      ],
      "execution_count": 28,
      "outputs": [
        {
          "output_type": "execute_result",
          "data": {
            "text/plain": [
              "(84, 7, 7, 512)"
            ]
          },
          "metadata": {
            "tags": []
          },
          "execution_count": 28
        }
      ]
    },
    {
      "cell_type": "code",
      "metadata": {
        "id": "sgfiXWN3e51j",
        "colab_type": "code",
        "colab": {}
      },
      "source": [
        "# Reshaping the training as well as validation frames\n",
        "X_train = X_train.reshape(334, 7*7*512)\n",
        "X_test = X_test.reshape(84, 7*7*512)\n",
        "\n",
        "# Normalizing the pixel values\n",
        "max = X_train.max()\n",
        "X_train = X_train/max\n",
        "X_test = X_test/max"
      ],
      "execution_count": 0,
      "outputs": []
    },
    {
      "cell_type": "code",
      "metadata": {
        "id": "L7fRuIVFe7pU",
        "colab_type": "code",
        "colab": {}
      },
      "source": [
        "# Using the sequential architecture\n",
        "# Using three layers on the sequential model\n",
        "# TODO: Change the dropout between the layers\n",
        "# Sizes must also change\n",
        "model = Sequential()\n",
        "model.add(Dense(1000, activation='relu', input_shape=(25088,)))\n",
        "model.add(Dropout(0.5))\n",
        "model.add(Dense(500, activation='relu'))\n",
        "model.add(Dropout(0.5))\n",
        "model.add(Dense(100, activation='relu'))\n",
        "model.add(Dropout(0.5))\n",
        "model.add(Dense(3, activation='softmax'))"
      ],
      "execution_count": 0,
      "outputs": []
    },
    {
      "cell_type": "markdown",
      "metadata": {
        "id": "NCo9ynkjfrC3",
        "colab_type": "text"
      },
      "source": [
        "Training Time"
      ]
    },
    {
      "cell_type": "code",
      "metadata": {
        "id": "HTUaul-xfuNM",
        "colab_type": "code",
        "colab": {}
      },
      "source": [
        "# Compiling the model\n",
        "model.compile(loss='categorical_crossentropy',optimizer='Adam',metrics=['accuracy'])"
      ],
      "execution_count": 0,
      "outputs": []
    },
    {
      "cell_type": "code",
      "metadata": {
        "id": "HIqK1q2ffv3k",
        "colab_type": "code",
        "colab": {}
      },
      "source": [
        "# training the model\n",
        "model.fit(X_train, y_train, epochs=100, validation_data=(X_test, y_test),  batch_size=30)\n",
        "# training the model\n",
        "# model.fit(X_train, y_train, epochs=100, validation_data=(X_test, y_test), callbacks=[mcp_save], batch_size=30)"
      ],
      "execution_count": 0,
      "outputs": []
    },
    {
      "cell_type": "markdown",
      "metadata": {
        "id": "rKMfMxomgccO",
        "colab_type": "text"
      },
      "source": [
        "**Time to test everything here**"
      ]
    },
    {
      "cell_type": "code",
      "metadata": {
        "id": "QHvLBeRHgghc",
        "colab_type": "code",
        "colab": {}
      },
      "source": [
        "from keras.models import Sequential\n",
        "from keras.layers import Dense, Dropout, Flatten\n",
        "from keras.layers import Conv2D, MaxPooling2D\n",
        "from keras.preprocessing import image\n",
        "import numpy as np\n",
        "import pandas as pd\n",
        "from tqdm import tqdm\n",
        "from keras.applications.vgg16 import VGG16\n",
        "import cv2\n",
        "import math\n",
        "import os\n",
        "from glob import glob\n",
        "from scipy import stats as s"
      ],
      "execution_count": 0,
      "outputs": []
    },
    {
      "cell_type": "code",
      "metadata": {
        "id": "0rrEks9QhiXw",
        "colab_type": "code",
        "colab": {}
      },
      "source": [
        "# getting the test list\n",
        "f = open(\"Test.txt\", \"r\")\n",
        "temp = f.read()\n",
        "videos = temp.split('\\n')\n",
        "\n",
        "# creating the dataframe\n",
        "test = pd.DataFrame()\n",
        "test['video_name'] = videos\n",
        "test = test[:-1]\n",
        "test_videos = test['video_name']\n",
        "test.head()"
      ],
      "execution_count": 0,
      "outputs": []
    },
    {
      "cell_type": "code",
      "metadata": {
        "id": "jPbvlH9qhozb",
        "colab_type": "code",
        "colab": {}
      },
      "source": [
        "# creating the tags\n",
        "train = pd.read_csv('training/trains.csv')\n",
        "y = train['class']\n",
        "y = pd.get_dummies(y)"
      ],
      "execution_count": 0,
      "outputs": []
    },
    {
      "cell_type": "code",
      "metadata": {
        "id": "iV2nACCU6X4P",
        "colab_type": "code",
        "colab": {}
      },
      "source": [
        "# creating two lists to store predicted and actual tags\n",
        "predict = []\n",
        "actual = []\n",
        "\n",
        "# for loop to extract frames from each test video\n",
        "for i in tqdm(range(test_videos.shape[0])):\n",
        "    count = 0\n",
        "    videoFile = test_videos[i]\n",
        "    cap = cv2.VideoCapture(videoFile.split(' ')[0])   # capturing the video from the given path\n",
        "    frameRate = cap.get(5) #frame rate\n",
        "    # removing all other files from the temp folder\n",
        "    # !rm -rf temp\n",
        "    while(cap.isOpened()):\n",
        "        frameId = cap.get(1) #current frame number\n",
        "        ret, frame = cap.read()\n",
        "        if (ret != True):\n",
        "            break\n",
        "        if (frameId % math.floor(frameRate) == 0):\n",
        "            # storing the frames of this particular video in temp folder\n",
        "            filename ='temp/' + \"_frame%d.jpg\" % count;count+=1\n",
        "            cv2.imwrite(filename, frame)\n",
        "    cap.release()\n",
        "    \n",
        "    # reading all the frames from temp folder\n",
        "    images = glob(\"temp/*.jpg\")\n",
        "    prediction_images = []\n",
        "    for i in range(len(images)):\n",
        "        img = image.load_img(images[i], target_size=(224,224,3))\n",
        "        img = image.img_to_array(img)\n",
        "        img = img/255\n",
        "        prediction_images.append(img)\n",
        "    prediction_images = np.array(prediction_images)\n",
        "    prediction_images = base_model.predict(prediction_images)\n",
        "    prediction_images = prediction_images.reshape(prediction_images.shape[0], 7*7*512)\n",
        "    prediction = model.predict_classes(prediction_images)\n",
        "    \n",
        "    # appending the mode of predictions in predict list to assign the tag to the video\n",
        "    predict.append(y.columns.values[s.mode(prediction)[0][0]])\n",
        "\n",
        "    # appending the actual tag of the video\n",
        "    vidclass = (videoFile.split('_')[0])\n",
        "    actual.append(vidclass.lower())\n",
        "    "
      ],
      "execution_count": 0,
      "outputs": []
    },
    {
      "cell_type": "markdown",
      "metadata": {
        "id": "27pdRO-t0HWJ",
        "colab_type": "text"
      },
      "source": [
        ""
      ]
    },
    {
      "cell_type": "code",
      "metadata": {
        "id": "-5BJdDyyioyu",
        "colab_type": "code",
        "colab": {
          "base_uri": "https://localhost:8080/",
          "height": 34
        },
        "outputId": "96cb5fa2-bf56-4945-a753-185dbd87c4ba"
      },
      "source": [
        "# checking the accuracy of the predicted tags\n",
        "from sklearn.metrics import accuracy_score\n",
        "accuracy_score(predict, actual)*100"
      ],
      "execution_count": 56,
      "outputs": [
        {
          "output_type": "execute_result",
          "data": {
            "text/plain": [
              "93.10344827586206"
            ]
          },
          "metadata": {
            "tags": []
          },
          "execution_count": 56
        }
      ]
    },
    {
      "cell_type": "markdown",
      "metadata": {
        "id": "tTCn9-l6RXKV",
        "colab_type": "text"
      },
      "source": [
        "The end!\n"
      ]
    }
  ]
}