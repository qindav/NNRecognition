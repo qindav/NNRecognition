{
  "nbformat": 4,
  "nbformat_minor": 0,
  "metadata": {
    "colab": {
      "name": "MyModel.ipynb",
      "provenance": [],
      "collapsed_sections": []
    },
    "kernelspec": {
      "name": "python3",
      "display_name": "Python 3"
    }
  },
  "cells": [
    {
      "cell_type": "markdown",
      "metadata": {
        "id": "xUSgz8AbSD84",
        "colab_type": "text"
      },
      "source": [
        "**This portion processes the videos into frames to prepare for learning**"
      ]
    },
    {
      "cell_type": "markdown",
      "metadata": {
        "id": "DQBqrVlRRdle",
        "colab_type": "text"
      },
      "source": [
        "This code uses methods provided in this tutorial [here](https://www.analyticsvidhya.com/blog/2019/09/step-by-step-deep-learning-tutorial-video-classification-python/) in order to process videos and setting up the neural net. Credits go to Pulkit Sharma."
      ]
    },
    {
      "cell_type": "code",
      "metadata": {
        "id": "r9Jpw6vQJBWL",
        "colab_type": "code",
        "outputId": "1cf9c3c5-5782-463a-eaac-4df60df9f347",
        "colab": {
          "base_uri": "https://localhost:8080/",
          "height": 34
        }
      },
      "source": [
        "# Lots of headers, though some may be unused rn\n",
        "import cv2\n",
        "import math\n",
        "import matplotlib.pyplot as plt\n",
        "%matplotlib inline\n",
        "import pandas as pd\n",
        "from keras.preprocessing import image\n",
        "import numpy as np\n",
        "from keras.utils import np_utils\n",
        "from skimage.transform import resize\n",
        "from sklearn.model_selection import train_test_split\n",
        "from glob import glob\n",
        "from tqdm import tqdm"
      ],
      "execution_count": 0,
      "outputs": [
        {
          "output_type": "stream",
          "text": [
            "Using TensorFlow backend.\n"
          ],
          "name": "stderr"
        }
      ]
    },
    {
      "cell_type": "code",
      "metadata": {
        "id": "J2nSB5zZSC6o",
        "colab_type": "code",
        "outputId": "17e715a3-f08d-4f26-841d-82d8c266771e",
        "colab": {
          "base_uri": "https://localhost:8080/",
          "height": 34
        }
      },
      "source": [
        "from google.colab import drive\n",
        "drive.mount('/content/drive')"
      ],
      "execution_count": 0,
      "outputs": [
        {
          "output_type": "stream",
          "text": [
            "Drive already mounted at /content/drive; to attempt to forcibly remount, call drive.mount(\"/content/drive\", force_remount=True).\n"
          ],
          "name": "stdout"
        }
      ]
    },
    {
      "cell_type": "code",
      "metadata": {
        "id": "rPz3K1AmSa16",
        "colab_type": "code",
        "outputId": "48f81caa-ae40-44ce-b676-cc2a0c8d4dd9",
        "colab": {
          "base_uri": "https://localhost:8080/",
          "height": 51
        }
      },
      "source": [
        "cd drive/'My Drive'/Videos_DLP_v3"
      ],
      "execution_count": 0,
      "outputs": [
        {
          "output_type": "stream",
          "text": [
            "[Errno 2] No such file or directory: 'drive/My Drive/Videos_DLP_v3'\n",
            "/content/drive/My Drive/Videos_DLP_v3\n"
          ],
          "name": "stdout"
        }
      ]
    },
    {
      "cell_type": "code",
      "metadata": {
        "id": "3GJVatLBSd_Y",
        "colab_type": "code",
        "outputId": "b0104480-7aee-418f-bb64-ae9ac53d0485",
        "colab": {
          "base_uri": "https://localhost:8080/",
          "height": 204
        }
      },
      "source": [
        "# Prepares stuff for training\n",
        "# open the .txt file which have names of training videos\n",
        "f = open(\"Training.txt\", \"r\")\n",
        "temp = f.read()\n",
        "videos = temp.split('\\n')\n",
        "\n",
        "# creating a dataframe using video names\n",
        "train = pd.DataFrame()\n",
        "train['video_name'] = videos\n",
        "train = train[:-1]\n",
        "train.head()"
      ],
      "execution_count": 0,
      "outputs": [
        {
          "output_type": "execute_result",
          "data": {
            "text/html": [
              "<div>\n",
              "<style scoped>\n",
              "    .dataframe tbody tr th:only-of-type {\n",
              "        vertical-align: middle;\n",
              "    }\n",
              "\n",
              "    .dataframe tbody tr th {\n",
              "        vertical-align: top;\n",
              "    }\n",
              "\n",
              "    .dataframe thead th {\n",
              "        text-align: right;\n",
              "    }\n",
              "</style>\n",
              "<table border=\"1\" class=\"dataframe\">\n",
              "  <thead>\n",
              "    <tr style=\"text-align: right;\">\n",
              "      <th></th>\n",
              "      <th>video_name</th>\n",
              "    </tr>\n",
              "  </thead>\n",
              "  <tbody>\n",
              "    <tr>\n",
              "      <th>0</th>\n",
              "      <td>Drumming_1.MP4</td>\n",
              "    </tr>\n",
              "    <tr>\n",
              "      <th>1</th>\n",
              "      <td>Drumming_2.MP4</td>\n",
              "    </tr>\n",
              "    <tr>\n",
              "      <th>2</th>\n",
              "      <td>Drumming_3.MP4</td>\n",
              "    </tr>\n",
              "    <tr>\n",
              "      <th>3</th>\n",
              "      <td>Drumming_4.MP4</td>\n",
              "    </tr>\n",
              "    <tr>\n",
              "      <th>4</th>\n",
              "      <td>Drumming_9.MP4</td>\n",
              "    </tr>\n",
              "  </tbody>\n",
              "</table>\n",
              "</div>"
            ],
            "text/plain": [
              "       video_name\n",
              "0  Drumming_1.MP4\n",
              "1  Drumming_2.MP4\n",
              "2  Drumming_3.MP4\n",
              "3  Drumming_4.MP4\n",
              "4  Drumming_9.MP4"
            ]
          },
          "metadata": {
            "tags": []
          },
          "execution_count": 6
        }
      ]
    },
    {
      "cell_type": "code",
      "metadata": {
        "id": "TJZcyc_P8Xsk",
        "colab_type": "code",
        "outputId": "aec9f770-62a5-497d-dae0-60ab1fb8cedc",
        "colab": {
          "base_uri": "https://localhost:8080/",
          "height": 204
        }
      },
      "source": [
        "# Prepares stuff for testing\n",
        "# open the .txt file which have names of test videos\n",
        "f = open(\"Testing.txt\", \"r\")\n",
        "temp = f.read()\n",
        "videos = temp.split('\\n')\n",
        "\n",
        "# creating a dataframe having video names\n",
        "test = pd.DataFrame()\n",
        "test['video_name'] = videos\n",
        "test = test[:-1]\n",
        "test.head()"
      ],
      "execution_count": 0,
      "outputs": [
        {
          "output_type": "execute_result",
          "data": {
            "text/html": [
              "<div>\n",
              "<style scoped>\n",
              "    .dataframe tbody tr th:only-of-type {\n",
              "        vertical-align: middle;\n",
              "    }\n",
              "\n",
              "    .dataframe tbody tr th {\n",
              "        vertical-align: top;\n",
              "    }\n",
              "\n",
              "    .dataframe thead th {\n",
              "        text-align: right;\n",
              "    }\n",
              "</style>\n",
              "<table border=\"1\" class=\"dataframe\">\n",
              "  <thead>\n",
              "    <tr style=\"text-align: right;\">\n",
              "      <th></th>\n",
              "      <th>video_name</th>\n",
              "    </tr>\n",
              "  </thead>\n",
              "  <tbody>\n",
              "    <tr>\n",
              "      <th>0</th>\n",
              "      <td>Drumming_5.MP4</td>\n",
              "    </tr>\n",
              "    <tr>\n",
              "      <th>1</th>\n",
              "      <td>Drumming_6.MP4</td>\n",
              "    </tr>\n",
              "    <tr>\n",
              "      <th>2</th>\n",
              "      <td>Drumming_7.MP4</td>\n",
              "    </tr>\n",
              "    <tr>\n",
              "      <th>3</th>\n",
              "      <td>Drumming_8.MP4</td>\n",
              "    </tr>\n",
              "    <tr>\n",
              "      <th>4</th>\n",
              "      <td>Drumming_15.MP4</td>\n",
              "    </tr>\n",
              "  </tbody>\n",
              "</table>\n",
              "</div>"
            ],
            "text/plain": [
              "        video_name\n",
              "0   Drumming_5.MP4\n",
              "1   Drumming_6.MP4\n",
              "2   Drumming_7.MP4\n",
              "3   Drumming_8.MP4\n",
              "4  Drumming_15.MP4"
            ]
          },
          "metadata": {
            "tags": []
          },
          "execution_count": 7
        }
      ]
    },
    {
      "cell_type": "code",
      "metadata": {
        "id": "UziZo_4VSzeh",
        "colab_type": "code",
        "colab": {}
      },
      "source": [
        "# Tag creation here\n",
        "# creating tags for training videos\n",
        "train_video_tag = []\n",
        "for i in range(train.shape[0]):\n",
        "    train_video_tag.append(train['video_name'][i].split('/')[0])\n",
        "    \n",
        "train['tag'] = train_video_tag\n",
        "\n",
        "# creating tags for test videos\n",
        "test_video_tag = []\n",
        "for i in range(test.shape[0]):\n",
        "    test_video_tag.append(test['video_name'][i].split('/')[0])\n",
        "    \n",
        "test['tag'] = test_video_tag"
      ],
      "execution_count": 0,
      "outputs": []
    },
    {
      "cell_type": "code",
      "metadata": {
        "id": "h9SS08b_TtgQ",
        "colab_type": "code",
        "outputId": "6061b5a3-b53f-4cb8-825f-023006f74fa8",
        "colab": {
          "base_uri": "https://localhost:8080/",
          "height": 34
        }
      },
      "source": [
        "# Breaks the video by frames for training set\n",
        "for i in tqdm(range(train.shape[0])):\n",
        "    count = 0\n",
        "    videoFile = train['video_name'][i]\n",
        "    cap = cv2.VideoCapture(videoFile.split(' ')[0])   # capturing the video from the given path\n",
        "    frameRate = cap.get(5) #frame rate\n",
        "    x=1\n",
        "    while(cap.isOpened()):\n",
        "        frameId = cap.get(1) #current frame number\n",
        "        ret, frame = cap.read()\n",
        "        if (ret != True):\n",
        "            break\n",
        "        if (frameId % math.floor(frameRate) == 0):\n",
        "            # storing the frames in a new folder named train_1\n",
        "            filename ='training/' + videoFile.split(' ')[0] +\"_frame%d.jpg\" % count;count+=1\n",
        "            cv2.imwrite(filename, frame)\n",
        "    cap.release()"
      ],
      "execution_count": 0,
      "outputs": [
        {
          "output_type": "stream",
          "text": [
            "100%|██████████| 69/69 [02:23<00:00,  2.08s/it]\n"
          ],
          "name": "stderr"
        }
      ]
    },
    {
      "cell_type": "code",
      "metadata": {
        "id": "YQAUB2cQVK36",
        "colab_type": "code",
        "outputId": "69a3ebe3-525a-41f9-d28d-b9425169f251",
        "colab": {
          "base_uri": "https://localhost:8080/",
          "height": 238
        }
      },
      "source": [
        "# getting the names of all the images for training set\n",
        "images = glob(\"training/*.jpg\")\n",
        "train_image = []\n",
        "train_class = []\n",
        "for i in tqdm(range(len(images))):\n",
        "    # creating the image name\n",
        "    train_image.append(images[i].split('/')[1])\n",
        "    # creating the class of image\n",
        "    vidclass = images[i].split('/')[1].split('_')[0]\n",
        "    train_class.append(vidclass.lower())\n",
        "    \n",
        "# storing the images and their class in a dataframe\n",
        "train_data = pd.DataFrame()\n",
        "train_data['image'] = train_image\n",
        "train_data['class'] = train_class \n",
        "\n",
        "# converting the dataframename into csv file \n",
        "print(train_data['class'])\n",
        "train_data.to_csv('training/trains.csv',header=True, index=False)"
      ],
      "execution_count": 0,
      "outputs": [
        {
          "output_type": "stream",
          "text": [
            "100%|██████████| 505/505 [00:00<00:00, 169395.67it/s]"
          ],
          "name": "stderr"
        },
        {
          "output_type": "stream",
          "text": [
            "0      drumming\n",
            "1      drumming\n",
            "2      drumming\n",
            "3      drumming\n",
            "4      drumming\n",
            "         ...   \n",
            "500    drumming\n",
            "501    drumming\n",
            "502    drumming\n",
            "503    drumming\n",
            "504    drumming\n",
            "Name: class, Length: 505, dtype: object\n"
          ],
          "name": "stdout"
        },
        {
          "output_type": "stream",
          "text": [
            "\n"
          ],
          "name": "stderr"
        }
      ]
    },
    {
      "cell_type": "code",
      "metadata": {
        "id": "ciBQQEE4cgfs",
        "colab_type": "code",
        "outputId": "b28f22ff-5b2a-4d84-8114-cd42766c7f1e",
        "colab": {
          "base_uri": "https://localhost:8080/",
          "height": 34
        }
      },
      "source": [
        "# Breaks the video by frames for testing set\n",
        "for i in tqdm(range(test.shape[0])):\n",
        "    count = 0\n",
        "    videoFile = test['video_name'][i]\n",
        "    cap = cv2.VideoCapture(videoFile.split(' ')[0])   # capturing the video from the given path\n",
        "    frameRate = cap.get(5) #frame rate\n",
        "    x=1\n",
        "    while(cap.isOpened()):\n",
        "        frameId = cap.get(1) #current frame number\n",
        "        ret, frame = cap.read()\n",
        "        if (ret != True):\n",
        "            break\n",
        "        # Save frames every second\n",
        "        if (frameId % math.floor(frameRate) == 0):\n",
        "            filename ='testing/' + videoFile.split(' ')[0] +\"_frame%d.jpg\" % count;count+=1\n",
        "            cv2.imwrite(filename, frame)\n",
        "    cap.release()"
      ],
      "execution_count": 0,
      "outputs": [
        {
          "output_type": "stream",
          "text": [
            "100%|██████████| 33/33 [01:05<00:00,  1.97s/it]\n"
          ],
          "name": "stderr"
        }
      ]
    },
    {
      "cell_type": "code",
      "metadata": {
        "id": "hQdYKlvWcrCj",
        "colab_type": "code",
        "outputId": "6e3a1285-0b81-45d4-d6db-a80c93c968ea",
        "colab": {
          "base_uri": "https://localhost:8080/",
          "height": 238
        }
      },
      "source": [
        "# getting the names of all the images for testing set\n",
        "images = glob(\"testing/*.jpg\")\n",
        "test_image = []\n",
        "test_class = []\n",
        "for i in tqdm(range(len(images))):\n",
        "    # creating the image name\n",
        "    test_image.append(images[i].split('/')[1])\n",
        "    # creating the class of image\n",
        "    vidclass = images[i].split('/')[1].split('_')[0]\n",
        "    test_class.append(vidclass.lower())\n",
        "    \n",
        "# storing the images and their class in a dataframe\n",
        "test_data = pd.DataFrame()\n",
        "test_data['image'] = test_image\n",
        "test_data['class'] = test_class \n",
        "\n",
        "# converting the dataframename into csv file \n",
        "print(test_data['class'])\n",
        "test_data.to_csv('testing/testings.csv',header=True, index=False)"
      ],
      "execution_count": 0,
      "outputs": [
        {
          "output_type": "stream",
          "text": [
            "100%|██████████| 255/255 [00:00<00:00, 212422.55it/s]"
          ],
          "name": "stderr"
        },
        {
          "output_type": "stream",
          "text": [
            "0      drumming\n",
            "1      drumming\n",
            "2      drumming\n",
            "3      drumming\n",
            "4      drumming\n",
            "         ...   \n",
            "250     erratic\n",
            "251     erratic\n",
            "252     erratic\n",
            "253     erratic\n",
            "254     erratic\n",
            "Name: class, Length: 255, dtype: object\n"
          ],
          "name": "stdout"
        },
        {
          "output_type": "stream",
          "text": [
            "\n"
          ],
          "name": "stderr"
        }
      ]
    },
    {
      "cell_type": "markdown",
      "metadata": {
        "id": "Zp1BfqezdM2e",
        "colab_type": "text"
      },
      "source": [
        "**Get ready to train the model**"
      ]
    },
    {
      "cell_type": "code",
      "metadata": {
        "id": "CirotTL5ebeF",
        "colab_type": "code",
        "colab": {}
      },
      "source": [
        "import keras\n",
        "from keras.models import Sequential\n",
        "from keras.applications.vgg16 import VGG16\n",
        "from keras.layers import Dense, InputLayer, Dropout, Flatten\n",
        "from keras.layers import Conv2D, MaxPooling2D, GlobalMaxPooling2D\n",
        "from keras.preprocessing import image\n",
        "import numpy as np\n",
        "import pandas as pd\n",
        "import matplotlib.pyplot as plt\n",
        "from tqdm import tqdm\n",
        "from sklearn.model_selection import train_test_split"
      ],
      "execution_count": 0,
      "outputs": []
    },
    {
      "cell_type": "code",
      "metadata": {
        "id": "jDs8mt_7eihk",
        "colab_type": "code",
        "outputId": "1d2d009a-c851-4522-ceee-cdd71f4a39c9",
        "colab": {
          "base_uri": "https://localhost:8080/",
          "height": 527
        }
      },
      "source": [
        "ls"
      ],
      "execution_count": 0,
      "outputs": [
        {
          "output_type": "stream",
          "text": [
            "Drumming_0.mp4   Drumming_5.MP4  Erratic_32.MOV  Pockets_21.MP4\n",
            "Drumming_10.MP4  Drumming_6.MP4  Erratic_33.MOV  Pockets_22.mov\n",
            "Drumming_11.MP4  Drumming_7.MP4  Erratic_3.MP4   Pockets_23.mov\n",
            "Drumming_12.MP4  Drumming_8.MP4  Erratic_4.MP4   Pockets_24.mov\n",
            "Drumming_13.MP4  Drumming_9.MP4  Erratic_5.MP4   Pockets_25.mov\n",
            "Drumming_14.MP4  Erratic_0.mp4   Erratic_6.MP4   Pockets_26.MP4\n",
            "Drumming_15.MP4  Erratic_10.MP4  Erratic_7.MP4   Pockets_27.mp4\n",
            "Drumming_16.MP4  Erratic_11.MP4  Erratic_8.MP4   Pockets_28.mp4\n",
            "Drumming_17.MP4  Erratic_12.MP4  Erratic_9.MP4   Pockets_29.mp4\n",
            "Drumming_18.MP4  Erratic_13.MP4  Negative_1.MOV  Pockets_2.MP4\n",
            "Drumming_19.MP4  Erratic_14.MP4  Negative_2.MOV  Pockets_30.MOV\n",
            "Drumming_1.MP4   Erratic_15.MP4  Negative_3.MOV  Pockets_31.MOV\n",
            "Drumming_20.MP4  Erratic_16.MP4  Negative_4.MOV  Pockets_32.MOV\n",
            "Drumming_21.MOV  Erratic_17.MP4  Negative_5.MOV  Pockets_33.MOV\n",
            "Drumming_22.MOV  Erratic_18.MP4  Negative_6.MOV  Pockets_3.MP4\n",
            "Drumming_23.MOV  Erratic_19.MP4  Negative_7.MOV  Pockets_4.MP4\n",
            "Drumming_24.MOV  Erratic_1.MP4   Pockets_0.mp4   Pockets_5.MP4\n",
            "Drumming_25.MOV  Erratic_20.MP4  Pockets_10.MP4  Pockets_6.MP4\n",
            "Drumming_26.MOV  Erratic_21.MP4  Pockets_11.MP4  Pockets_7.MP4\n",
            "Drumming_27.MOV  Erratic_22.MP4  Pockets_12.MP4  Pockets_8.MP4\n",
            "Drumming_28.MOV  Erratic_23.MP4  Pockets_13.MP4  Pockets_9.MP4\n",
            "Drumming_29.MOV  Erratic_24.MP4  Pockets_14.MP4  \u001b[0m\u001b[01;34mtemp\u001b[0m/\n",
            "Drumming_2.MP4   Erratic_25.MP4  Pockets_15.MP4  \u001b[01;34mtesting\u001b[0m/\n",
            "Drumming_30.MOV  Erratic_26.MP4  Pockets_16.MP4  Testing.txt\n",
            "Drumming_31.MOV  Erratic_27.MP4  Pockets_17.MP4  \u001b[01;34mtraining\u001b[0m/\n",
            "Drumming_32.MOV  Erratic_28.MP4  Pockets_18.MP4  Training.txt\n",
            "Drumming_33.MOV  Erratic_29.MOV  Pockets_19.MP4  weight10.hdf5\n",
            "Drumming_34.MOV  Erratic_2.MP4   Pockets_1.MP4   weight9.hdf5\n",
            "Drumming_3.MP4   Erratic_30.MOV  Pockets_20.MP4  weight.hdf5\n",
            "Drumming_4.MP4   Erratic_31.MOV  Pockets_21.mov\n"
          ],
          "name": "stdout"
        }
      ]
    },
    {
      "cell_type": "code",
      "metadata": {
        "id": "tdWm8k_3epAk",
        "colab_type": "code",
        "outputId": "f3201d40-51bc-47b8-992c-19aa822ea131",
        "colab": {
          "base_uri": "https://localhost:8080/",
          "height": 34
        }
      },
      "source": [
        "train = pd.read_csv('training/trains.csv')\n",
        "train.head()\n",
        "# Setting up the frames here\n",
        "train_image = []\n",
        "\n",
        "# Processes the images here.\n",
        "for i in tqdm(range(train.shape[0])):\n",
        "    img = image.load_img('training/'+train['image'][i], target_size=(224,224,3))\n",
        "    img = image.img_to_array(img)\n",
        "    img = img/255\n",
        "    train_image.append(img)\n",
        "    \n",
        "# convert to np array\n",
        "X = np.array(train_image)"
      ],
      "execution_count": 0,
      "outputs": [
        {
          "output_type": "stream",
          "text": [
            "100%|██████████| 505/505 [00:11<00:00, 45.72it/s]\n"
          ],
          "name": "stderr"
        }
      ]
    },
    {
      "cell_type": "code",
      "metadata": {
        "id": "2MkJiV6jezG7",
        "colab_type": "code",
        "colab": {}
      },
      "source": [
        "# Creating validation set\n",
        "# separating the target\n",
        "y = train['class']\n",
        "\n",
        "# creating the training and validation set\n",
        "X_train, X_test, y_train, y_test = train_test_split(X, y, random_state=42, test_size=0.2, stratify = y)\n",
        "\n",
        "# creating dummies of target variable for train and validation set\n",
        "y_train = pd.get_dummies(y_train)\n",
        "y_test = pd.get_dummies(y_test)"
      ],
      "execution_count": 0,
      "outputs": []
    },
    {
      "cell_type": "code",
      "metadata": {
        "id": "CDZ8QnrBe2UK",
        "colab_type": "code",
        "colab": {}
      },
      "source": [
        "# Creating the base model of pre-trained VGG16 model\n",
        "# This is one form of CNN that can be used on each frame individually \n",
        "base_model = VGG16(weights='imagenet', include_top=False)"
      ],
      "execution_count": 0,
      "outputs": []
    },
    {
      "cell_type": "code",
      "metadata": {
        "id": "i-_gi80ZwpmO",
        "colab_type": "code",
        "colab": {}
      },
      "source": [
        "X_train = base_model.predict(X_train) # extracting features for training frames\n",
        "X_test = base_model.predict(X_test) # extracting features for testing frames"
      ],
      "execution_count": 0,
      "outputs": []
    },
    {
      "cell_type": "code",
      "metadata": {
        "id": "cS-bRg5Hu3d4",
        "colab_type": "code",
        "outputId": "3f6553c5-57f0-45a2-8f39-b25aa9231668",
        "colab": {
          "base_uri": "https://localhost:8080/",
          "height": 34
        }
      },
      "source": [
        "X_train.shape"
      ],
      "execution_count": 0,
      "outputs": [
        {
          "output_type": "execute_result",
          "data": {
            "text/plain": [
              "(404, 7, 7, 512)"
            ]
          },
          "metadata": {
            "tags": []
          },
          "execution_count": 19
        }
      ]
    },
    {
      "cell_type": "code",
      "metadata": {
        "id": "qcND3q0Zu8Nt",
        "colab_type": "code",
        "outputId": "5ba8d2f6-0205-4c86-9a16-275b35ee55ef",
        "colab": {
          "base_uri": "https://localhost:8080/",
          "height": 34
        }
      },
      "source": [
        "X_test.shape"
      ],
      "execution_count": 0,
      "outputs": [
        {
          "output_type": "execute_result",
          "data": {
            "text/plain": [
              "(101, 7, 7, 512)"
            ]
          },
          "metadata": {
            "tags": []
          },
          "execution_count": 20
        }
      ]
    },
    {
      "cell_type": "code",
      "metadata": {
        "id": "sgfiXWN3e51j",
        "colab_type": "code",
        "colab": {}
      },
      "source": [
        "# Reshaping the training as well as validation frames\n",
        "X_train = X_train.reshape(404, 7*7*512)\n",
        "X_test = X_test.reshape(101, 7*7*512)\n",
        "\n",
        "# Normalizing the pixel values\n",
        "max = X_train.max()\n",
        "X_train = X_train/max\n",
        "X_test = X_test/max"
      ],
      "execution_count": 0,
      "outputs": []
    },
    {
      "cell_type": "code",
      "metadata": {
        "id": "L7fRuIVFe7pU",
        "colab_type": "code",
        "colab": {}
      },
      "source": [
        "# Using the sequential architecture\n",
        "# Using three layers on the sequential model\n",
        "# TODO: Change the dropout between the layers\n",
        "# Sizes must also change\n",
        "model = Sequential()\n",
        "model.add(Dense(1024, activation='relu', input_shape=(25088,)))\n",
        "model.add(Dropout(0.7))\n",
        "model.add(Dense(512, activation='relu'))\n",
        "model.add(Dropout(0.6))\n",
        "model.add(Dense(256, activation='relu'))\n",
        "model.add(Dropout(0.5))\n",
        "model.add(Dense(128, activation='relu'))\n",
        "model.add(Dropout(0.5))\n",
        "model.add(Dense(3, activation='softmax'))"
      ],
      "execution_count": 0,
      "outputs": []
    },
    {
      "cell_type": "markdown",
      "metadata": {
        "id": "NCo9ynkjfrC3",
        "colab_type": "text"
      },
      "source": [
        "Training Time"
      ]
    },
    {
      "cell_type": "code",
      "metadata": {
        "id": "HTUaul-xfuNM",
        "colab_type": "code",
        "colab": {}
      },
      "source": [
        "# Compiling the model\n",
        "model.compile(loss='categorical_crossentropy',optimizer='Adam',metrics=['accuracy'])"
      ],
      "execution_count": 0,
      "outputs": []
    },
    {
      "cell_type": "code",
      "metadata": {
        "id": "KTvaQ1NHte4c",
        "colab_type": "code",
        "colab": {}
      },
      "source": [
        "from keras.callbacks import ModelCheckpoint\n",
        "mcp_save = ModelCheckpoint('weight11.hdf5', save_best_only=True, monitor='val_loss', mode='min')"
      ],
      "execution_count": 0,
      "outputs": []
    },
    {
      "cell_type": "code",
      "metadata": {
        "id": "HIqK1q2ffv3k",
        "colab_type": "code",
        "outputId": "93eefb64-9ccd-46f7-edca-929ea96a2a0a",
        "colab": {
          "base_uri": "https://localhost:8080/",
          "height": 561
        }
      },
      "source": [
        "# training the model\n",
        "model.fit(X_train, y_train, epochs=15, validation_data=(X_test, y_test), callbacks=[mcp_save],  batch_size=64)"
      ],
      "execution_count": 0,
      "outputs": [
        {
          "output_type": "stream",
          "text": [
            "Train on 404 samples, validate on 101 samples\n",
            "Epoch 1/15\n",
            "404/404 [==============================] - 3s 6ms/step - loss: 0.0553 - accuracy: 0.9901 - val_loss: 0.1207 - val_accuracy: 0.9901\n",
            "Epoch 2/15\n",
            "404/404 [==============================] - 3s 6ms/step - loss: 0.0330 - accuracy: 0.9901 - val_loss: 0.1102 - val_accuracy: 0.9901\n",
            "Epoch 3/15\n",
            "404/404 [==============================] - 3s 6ms/step - loss: 0.1144 - accuracy: 0.9876 - val_loss: 0.0801 - val_accuracy: 0.9901\n",
            "Epoch 4/15\n",
            "404/404 [==============================] - 3s 6ms/step - loss: 0.0769 - accuracy: 0.9827 - val_loss: 0.0791 - val_accuracy: 0.9901\n",
            "Epoch 5/15\n",
            "404/404 [==============================] - 3s 6ms/step - loss: 0.0279 - accuracy: 0.9926 - val_loss: 0.1195 - val_accuracy: 0.9802\n",
            "Epoch 6/15\n",
            "404/404 [==============================] - 3s 6ms/step - loss: 0.0224 - accuracy: 0.9901 - val_loss: 0.1132 - val_accuracy: 0.9901\n",
            "Epoch 7/15\n",
            "404/404 [==============================] - 3s 8ms/step - loss: 0.0393 - accuracy: 0.9926 - val_loss: 0.0934 - val_accuracy: 0.9901\n",
            "Epoch 8/15\n",
            "404/404 [==============================] - 3s 7ms/step - loss: 0.0561 - accuracy: 0.9876 - val_loss: 0.0762 - val_accuracy: 0.9901\n",
            "Epoch 9/15\n",
            "404/404 [==============================] - 3s 6ms/step - loss: 0.0156 - accuracy: 0.9950 - val_loss: 0.1203 - val_accuracy: 0.9802\n",
            "Epoch 10/15\n",
            "404/404 [==============================] - 3s 6ms/step - loss: 0.0185 - accuracy: 0.9950 - val_loss: 0.1329 - val_accuracy: 0.9802\n",
            "Epoch 11/15\n",
            "404/404 [==============================] - 3s 6ms/step - loss: 0.0302 - accuracy: 0.9926 - val_loss: 0.1378 - val_accuracy: 0.9802\n",
            "Epoch 12/15\n",
            "404/404 [==============================] - 3s 7ms/step - loss: 0.0147 - accuracy: 0.9975 - val_loss: 0.1569 - val_accuracy: 0.9802\n",
            "Epoch 13/15\n",
            "404/404 [==============================] - 3s 7ms/step - loss: 0.0181 - accuracy: 0.9950 - val_loss: 0.1212 - val_accuracy: 0.9802\n",
            "Epoch 14/15\n",
            "404/404 [==============================] - 3s 7ms/step - loss: 0.0075 - accuracy: 0.9975 - val_loss: 0.1212 - val_accuracy: 0.9802\n",
            "Epoch 15/15\n",
            "404/404 [==============================] - 3s 6ms/step - loss: 0.0107 - accuracy: 0.9950 - val_loss: 0.1394 - val_accuracy: 0.9802\n"
          ],
          "name": "stdout"
        },
        {
          "output_type": "execute_result",
          "data": {
            "text/plain": [
              "<keras.callbacks.callbacks.History at 0x7f19c02b6b00>"
            ]
          },
          "metadata": {
            "tags": []
          },
          "execution_count": 36
        }
      ]
    },
    {
      "cell_type": "markdown",
      "metadata": {
        "id": "rKMfMxomgccO",
        "colab_type": "text"
      },
      "source": [
        "**Time to test everything here**"
      ]
    },
    {
      "cell_type": "code",
      "metadata": {
        "id": "QHvLBeRHgghc",
        "colab_type": "code",
        "colab": {}
      },
      "source": [
        "from keras.models import Sequential\n",
        "from keras.layers import Dense, Dropout, Flatten\n",
        "from keras.layers import Conv2D, MaxPooling2D\n",
        "from keras.preprocessing import image\n",
        "import numpy as np\n",
        "import pandas as pd\n",
        "from tqdm import tqdm\n",
        "from keras.applications.vgg16 import VGG16\n",
        "import cv2\n",
        "import math\n",
        "import os\n",
        "from glob import glob\n",
        "from scipy import stats as s"
      ],
      "execution_count": 0,
      "outputs": []
    },
    {
      "cell_type": "code",
      "metadata": {
        "id": "0rrEks9QhiXw",
        "colab_type": "code",
        "outputId": "2795d814-f157-41cc-d080-174b23d8fea8",
        "colab": {
          "base_uri": "https://localhost:8080/",
          "height": 204
        }
      },
      "source": [
        "# getting the test list\n",
        "f = open(\"Testing.txt\", \"r\")\n",
        "temp = f.read()\n",
        "videos = temp.split('\\n')\n",
        "\n",
        "# creating the dataframe\n",
        "test = pd.DataFrame()\n",
        "test['video_name'] = videos\n",
        "test = test[:-1]\n",
        "test_videos = test['video_name']\n",
        "test.head()"
      ],
      "execution_count": 0,
      "outputs": [
        {
          "output_type": "execute_result",
          "data": {
            "text/html": [
              "<div>\n",
              "<style scoped>\n",
              "    .dataframe tbody tr th:only-of-type {\n",
              "        vertical-align: middle;\n",
              "    }\n",
              "\n",
              "    .dataframe tbody tr th {\n",
              "        vertical-align: top;\n",
              "    }\n",
              "\n",
              "    .dataframe thead th {\n",
              "        text-align: right;\n",
              "    }\n",
              "</style>\n",
              "<table border=\"1\" class=\"dataframe\">\n",
              "  <thead>\n",
              "    <tr style=\"text-align: right;\">\n",
              "      <th></th>\n",
              "      <th>video_name</th>\n",
              "    </tr>\n",
              "  </thead>\n",
              "  <tbody>\n",
              "    <tr>\n",
              "      <th>0</th>\n",
              "      <td>Drumming_5.MP4</td>\n",
              "    </tr>\n",
              "    <tr>\n",
              "      <th>1</th>\n",
              "      <td>Drumming_6.MP4</td>\n",
              "    </tr>\n",
              "    <tr>\n",
              "      <th>2</th>\n",
              "      <td>Drumming_7.MP4</td>\n",
              "    </tr>\n",
              "    <tr>\n",
              "      <th>3</th>\n",
              "      <td>Drumming_8.MP4</td>\n",
              "    </tr>\n",
              "    <tr>\n",
              "      <th>4</th>\n",
              "      <td>Drumming_15.MP4</td>\n",
              "    </tr>\n",
              "  </tbody>\n",
              "</table>\n",
              "</div>"
            ],
            "text/plain": [
              "        video_name\n",
              "0   Drumming_5.MP4\n",
              "1   Drumming_6.MP4\n",
              "2   Drumming_7.MP4\n",
              "3   Drumming_8.MP4\n",
              "4  Drumming_15.MP4"
            ]
          },
          "metadata": {
            "tags": []
          },
          "execution_count": 38
        }
      ]
    },
    {
      "cell_type": "code",
      "metadata": {
        "id": "jPbvlH9qhozb",
        "colab_type": "code",
        "colab": {}
      },
      "source": [
        "# creating the tags\n",
        "train = pd.read_csv('training/trains.csv')\n",
        "y = train['class']\n",
        "y = pd.get_dummies(y)"
      ],
      "execution_count": 0,
      "outputs": []
    },
    {
      "cell_type": "code",
      "metadata": {
        "id": "iV2nACCU6X4P",
        "colab_type": "code",
        "outputId": "c4920a0f-ec28-4b75-8837-d072999987f1",
        "colab": {
          "base_uri": "https://localhost:8080/",
          "height": 34
        }
      },
      "source": [
        "# creating two lists to store predicted and actual tags\n",
        "predict = []\n",
        "actual = []\n",
        "\n",
        "# for loop to extract frames from each test video\n",
        "for i in tqdm(range(test_videos.shape[0])):\n",
        "    count = 0\n",
        "    videoFile = test_videos[i]\n",
        "    cap = cv2.VideoCapture(videoFile.split(' ')[0])   # capturing the video from the given path\n",
        "    frameRate = cap.get(5) #frame rate\n",
        "    # removing all other files from the temp folder\n",
        "    # !rm -rf temp\n",
        "    while(cap.isOpened()):\n",
        "        frameId = cap.get(1) #current frame number\n",
        "        ret, frame = cap.read()\n",
        "        if (ret != True):\n",
        "            break\n",
        "        if (frameId % math.floor(frameRate) == 0):\n",
        "            # storing the frames of this particular video in temp folder\n",
        "            filename ='temp/' + \"_frame%d.jpg\" % count;count+=1\n",
        "            cv2.imwrite(filename, frame)\n",
        "    cap.release()\n",
        "    \n",
        "    # reading all the frames from temp folder\n",
        "    images = glob(\"temp/*.jpg\")\n",
        "    prediction_images = []\n",
        "    for i in range(len(images)):\n",
        "        img = image.load_img(images[i], target_size=(224,224,3))\n",
        "        img = image.img_to_array(img)\n",
        "        img = img/255\n",
        "        prediction_images.append(img)\n",
        "    prediction_images = np.array(prediction_images)\n",
        "    prediction_images = base_model.predict(prediction_images)\n",
        "    prediction_images = prediction_images.reshape(prediction_images.shape[0], 7*7*512)\n",
        "    prediction = model.predict_classes(prediction_images)\n",
        "    # appending the mode of predictions in predict list to assign the tag to the video\n",
        "    predict.append(y.columns.values[s.mode(prediction)[0][0]])\n",
        "\n",
        "    # appending the actual tag of the video\n",
        "    vidclass = (videoFile.split('_')[0])\n",
        "    actual.append(vidclass.lower())\n",
        "    "
      ],
      "execution_count": 0,
      "outputs": [
        {
          "output_type": "stream",
          "text": [
            "100%|██████████| 33/33 [03:53<00:00,  7.07s/it]\n"
          ],
          "name": "stderr"
        }
      ]
    },
    {
      "cell_type": "markdown",
      "metadata": {
        "id": "27pdRO-t0HWJ",
        "colab_type": "text"
      },
      "source": [
        ""
      ]
    },
    {
      "cell_type": "code",
      "metadata": {
        "id": "-5BJdDyyioyu",
        "colab_type": "code",
        "outputId": "d7ad7e9d-30be-4fca-b674-88e1f8272060",
        "colab": {
          "base_uri": "https://localhost:8080/",
          "height": 34
        }
      },
      "source": [
        "# 0: drumming\n",
        "# 1: erratic\n",
        "# 2: pockets\n",
        "# checking the accuracy of the predicted tags\n",
        "from sklearn.metrics import accuracy_score\n",
        "accuracy_score(predict, actual)*100"
      ],
      "execution_count": 0,
      "outputs": [
        {
          "output_type": "execute_result",
          "data": {
            "text/plain": [
              "90.9090909090909"
            ]
          },
          "metadata": {
            "tags": []
          },
          "execution_count": 42
        }
      ]
    },
    {
      "cell_type": "markdown",
      "metadata": {
        "id": "tTCn9-l6RXKV",
        "colab_type": "text"
      },
      "source": [
        "The end!\n"
      ]
    }
  ]
}