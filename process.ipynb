{
  "nbformat": 4,
  "nbformat_minor": 0,
  "metadata": {
    "colab": {
      "name": "process.ipynb",
      "provenance": [],
      "collapsed_sections": []
    },
    "kernelspec": {
      "name": "python3",
      "display_name": "Python 3"
    }
  },
  "cells": [
    {
      "cell_type": "code",
      "metadata": {
        "id": "8JP83zPNchsi",
        "colab_type": "code",
        "colab": {
          "base_uri": "https://localhost:8080/",
          "height": 34
        },
        "outputId": "4702236b-386c-47c6-e4b8-3c72f1204e8a"
      },
      "source": [
        "# Lots of headers, though some may be unused rn\n",
        "import cv2\n",
        "import math\n",
        "import matplotlib.pyplot as plt\n",
        "%matplotlib inline\n",
        "import pandas as pd\n",
        "from keras.preprocessing import image\n",
        "import numpy as np\n",
        "from keras.utils import np_utils\n",
        "from skimage.transform import resize\n",
        "from sklearn.model_selection import train_test_split\n",
        "from glob import glob\n",
        "from tqdm import tqdm\n",
        "\n",
        "import keras\n",
        "from keras.models import Sequential\n",
        "from keras.applications.vgg16 import VGG16\n",
        "from keras.layers import Dense, InputLayer, Dropout, Flatten\n",
        "from keras.layers import Conv2D, MaxPooling2D, GlobalMaxPooling2D\n",
        "\n",
        "from moviepy.editor import VideoFileClip"
      ],
      "execution_count": 1,
      "outputs": [
        {
          "output_type": "stream",
          "text": [
            "Using TensorFlow backend.\n"
          ],
          "name": "stderr"
        }
      ]
    },
    {
      "cell_type": "markdown",
      "metadata": {
        "id": "RXFpYE-NnUoz",
        "colab_type": "text"
      },
      "source": [
        "Part 1: Partition the video into frames and save within a temp folder."
      ]
    },
    {
      "cell_type": "code",
      "metadata": {
        "id": "E-bhrKFzbc5v",
        "colab_type": "code",
        "colab": {}
      },
      "source": [
        "# Uses google colab for this, you may have to use your own.\n",
        "from google.colab import drive\n",
        "drive.mount('/content/drive')"
      ],
      "execution_count": 0,
      "outputs": []
    },
    {
      "cell_type": "code",
      "metadata": {
        "id": "YqLGDOgencs6",
        "colab_type": "code",
        "colab": {
          "base_uri": "https://localhost:8080/",
          "height": 34
        },
        "outputId": "9c90235c-f92c-47ff-8cc3-123ac12fa84f"
      },
      "source": [
        "cd drive/'My Drive'/'DLP Program'"
      ],
      "execution_count": 4,
      "outputs": [
        {
          "output_type": "stream",
          "text": [
            "/content/drive/My Drive/DLP Program\n"
          ],
          "name": "stdout"
        }
      ]
    },
    {
      "cell_type": "code",
      "metadata": {
        "id": "TgVlh8CVDk3k",
        "colab_type": "code",
        "colab": {
          "base_uri": "https://localhost:8080/",
          "height": 68
        },
        "outputId": "a431c365-8dac-4203-e938-4b126aa3a079"
      },
      "source": [
        "ls"
      ],
      "execution_count": 5,
      "outputs": [
        {
          "output_type": "stream",
          "text": [
            " drumming1.MP4         drumming2_Predictions.png   random.MP4\n",
            " drumming2_data.json   erratic1.MP4               \u001b[0m\u001b[01;34m'Sample Outputs'\u001b[0m/\n",
            " drumming2.MP4         pockets1.MP4                \u001b[01;34mtemp\u001b[0m/\n"
          ],
          "name": "stdout"
        }
      ]
    },
    {
      "cell_type": "code",
      "metadata": {
        "id": "L163t0QzoKka",
        "colab_type": "code",
        "colab": {}
      },
      "source": [
        "videoFile = \"erratic1.MP4\"\n",
        "# The input function doesn't seem to work on colab, manually editing the file name for now.\n",
        "# input(videoFile)"
      ],
      "execution_count": 0,
      "outputs": []
    },
    {
      "cell_type": "code",
      "metadata": {
        "id": "PkzqewoGoSt5",
        "colab_type": "code",
        "colab": {}
      },
      "source": [
        "# Breaks the video by frames for training set\n",
        "cap = cv2.VideoCapture(videoFile)\n",
        "x=1; count = 0\n",
        "while(cap.isOpened()):\n",
        "    # Current frame number\n",
        "    frameId = cap.get(1)\n",
        "    ret, frame = cap.read()\n",
        "    if (ret != True):\n",
        "        break\n",
        "    # Saves every 10th frame in the video, can be changed \n",
        "    if (frameId % 10 == 0): \n",
        "        filename ='temp/' + videoFile.split(' ')[0] +\"_frame%d.jpg\" % count;\n",
        "        count+=1\n",
        "        cv2.imwrite(filename, frame)\n",
        "cap.release()"
      ],
      "execution_count": 0,
      "outputs": []
    },
    {
      "cell_type": "markdown",
      "metadata": {
        "id": "lPv4qoUwrdGp",
        "colab_type": "text"
      },
      "source": [
        "Part 2: Prepare the model we chose, this is what ours will look like for now"
      ]
    },
    {
      "cell_type": "code",
      "metadata": {
        "id": "ukS5FGyfrgL4",
        "colab_type": "code",
        "colab": {}
      },
      "source": [
        "# Uses the base model of pre-trained VGG16 model\n",
        "base_model = VGG16(weights='imagenet', include_top=False)\n",
        "\n",
        "# Defining the architecture \n",
        "model = Sequential()\n",
        "model.add(Dense(1000, activation='relu', input_shape=(25088,)))\n",
        "model.add(Dropout(0.5))\n",
        "model.add(Dense(500, activation='relu'))\n",
        "model.add(Dropout(0.5))\n",
        "model.add(Dense(100, activation='relu'))\n",
        "model.add(Dropout(0.5))\n",
        "model.add(Dense(3, activation='softmax'))"
      ],
      "execution_count": 0,
      "outputs": []
    },
    {
      "cell_type": "code",
      "metadata": {
        "id": "jaK9MAirsJh3",
        "colab_type": "code",
        "colab": {}
      },
      "source": [
        "# compiling the model\n",
        "model.compile(loss='categorical_crossentropy',optimizer='Adam',metrics=['accuracy'])"
      ],
      "execution_count": 0,
      "outputs": []
    },
    {
      "cell_type": "markdown",
      "metadata": {
        "id": "FtJrNedAsZjq",
        "colab_type": "text"
      },
      "source": [
        "Part 3: Begin analyzing the frames!"
      ]
    },
    {
      "cell_type": "code",
      "metadata": {
        "id": "KNc9Ol53se2W",
        "colab_type": "code",
        "colab": {}
      },
      "source": [
        "# creating two lists to store predicted and actual tags\n",
        "predict = []\n",
        "\n",
        "images = glob(\"temp/*.jpg\")\n",
        "prediction_images = []\n",
        "for i in range(len(images)):\n",
        "    img = image.load_img(images[i], target_size=(224,224,3))\n",
        "    img = image.img_to_array(img)\n",
        "    img = img/255\n",
        "    prediction_images.append(img)\n",
        "prediction_images = np.array(prediction_images)\n",
        "prediction_images = base_model.predict(prediction_images)\n",
        "prediction_images = prediction_images.reshape(prediction_images.shape[0], 7*7*512)\n",
        "prediction = model.predict(prediction_images)"
      ],
      "execution_count": 0,
      "outputs": []
    },
    {
      "cell_type": "code",
      "metadata": {
        "id": "7LzIYSePt6I6",
        "colab_type": "code",
        "colab": {}
      },
      "source": [
        "# Get timestamps\n",
        "clip = VideoFileClip(videoFile)\n",
        "timestamps = np.arange(0.0, clip.duration, clip.duration/(len(prediction)))\n",
        "\n",
        "# Get prediction values here\n",
        "prediction = prediction.transpose()\n",
        "drumming = prediction[0]\n",
        "erratic = prediction[1]\n",
        "pockets = prediction[2]"
      ],
      "execution_count": 0,
      "outputs": []
    },
    {
      "cell_type": "code",
      "metadata": {
        "id": "Y2nVZTAI9W-p",
        "colab_type": "code",
        "colab": {
          "base_uri": "https://localhost:8080/",
          "height": 302
        },
        "outputId": "a19f8d2c-16f3-4b65-c53b-7879126298a9"
      },
      "source": [
        "# Plot here!\n",
        "plt.title('Prediction results')\n",
        "plt.xlabel('Time (seconds)')\n",
        "plt.ylabel('Guess (%)')\n",
        "\n",
        "plt.plot(timestamps, pockets, label=\"Pockets\")\n",
        "plt.plot(timestamps, erratic, label=\"Erratic\")\n",
        "plt.plot(timestamps, drumming, label=\"Drumming\")\n",
        "\n",
        "plt.legend(bbox_to_anchor=(0., 1.02, 1., .102), loc='lower left',\n",
        "           ncol=3, mode=\"expand\", borderaxespad=0.)\n",
        "\n",
        "plt.savefig(videoFile.split('.')[0] + '_Predictions.png')"
      ],
      "execution_count": 30,
      "outputs": [
        {
          "output_type": "display_data",
          "data": {
            "image/png": "[encoded data removed]",
            "text/plain": [
              "<Figure size 432x288 with 1 Axes>"
            ]
          },
          "metadata": {
            "tags": [],
            "needs_background": "light"
          }
        }
      ]
    },
    {
      "cell_type": "code",
      "metadata": {
        "id": "CTdyAuMYGB_M",
        "colab_type": "code",
        "colab": {
          "base_uri": "https://localhost:8080/",
          "height": 54
        },
        "outputId": "c8418ea7-e956-4570-9462-e16ae3147a43"
      },
      "source": [
        "# Creates the json here!\n",
        "import json\n",
        "data1 = list(zip(timestamps, pockets))\n",
        "data2 = list(zip(timestamps, erratic))\n",
        "data3 = list(zip(timestamps, drumming))\n",
        "\n",
        "data1 = [list([float(i) for i in ele]) for ele in data1] \n",
        "data2 = [list([float(i) for i in ele]) for ele in data2] \n",
        "data3 = [list([float(i) for i in ele]) for ele in data3]\n",
        "\n",
        "print(data1)\n",
        "dicttemp = {'pockets':data1,'erratic':data2,'drumming':data3}\n",
        "with open(videoFile.split('.')[0] + '_data.json', 'w') as f:\n",
        "    json.dump(dicttemp, f)"
      ],
      "execution_count": 23,
      "outputs": [
        {
          "output_type": "stream",
          "text": [
            "[[0.0, 0.2564212679862976], [0.3334782608695652, 0.2838439643383026], [0.6669565217391304, 0.3047052025794983], [1.0004347826086957, 0.31541672348976135], [1.333913043478261, 0.3150182068347931], [1.6673913043478261, 0.32184597849845886], [2.0008695652173913, 0.33722564578056335], [2.3343478260869563, 0.33138227462768555], [2.667826086956522, 0.2971910536289215], [3.0013043478260872, 0.29354408383369446], [3.3347826086956522, 0.28679826855659485], [3.6682608695652172, 0.2863197922706604], [4.001739130434783, 0.30835846066474915], [4.335217391304348, 0.3294018805027008], [4.668695652173913, 0.33982568979263306], [5.002173913043478, 0.3675239384174347], [5.335652173913044, 0.3511956036090851], [5.669130434782609, 0.3304419219493866], [6.0026086956521745, 0.3297715485095978], [6.336086956521739, 0.35286182165145874], [6.6695652173913045, 0.35682687163352966], [7.00304347826087, 0.33076363801956177], [7.3365217391304345, 0.33804526925086975]]\n"
          ],
          "name": "stdout"
        }
      ]
    }
  ]
}