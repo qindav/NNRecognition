{
  "nbformat": 4,
  "nbformat_minor": 0,
  "metadata": {
    "colab": {
      "name": "process.ipynb",
      "provenance": [],
      "collapsed_sections": []
    },
    "kernelspec": {
      "name": "python3",
      "display_name": "Python 3"
    }
  },
  "cells": [
    {
      "cell_type": "code",
      "metadata": {
        "id": "8JP83zPNchsi",
        "colab_type": "code",
        "colab": {}
      },
      "source": [
        "# Lots of headers, though some may be unused rn\n",
        "import cv2\n",
        "import math\n",
        "import matplotlib.pyplot as plt\n",
        "%matplotlib inline\n",
        "import pandas as pd\n",
        "from keras.preprocessing import image\n",
        "import numpy as np\n",
        "from keras.utils import np_utils\n",
        "from skimage.transform import resize\n",
        "from sklearn.model_selection import train_test_split\n",
        "from glob import glob\n",
        "from tqdm import tqdm\n",
        "\n",
        "import keras\n",
        "from keras.models import Sequential\n",
        "from keras.applications.vgg16 import VGG16\n",
        "from keras.layers import Dense, InputLayer, Dropout, Flatten\n",
        "from keras.layers import Conv2D, MaxPooling2D, GlobalMaxPooling2D\n",
        "\n",
        "from moviepy.editor import VideoFileClip"
      ],
      "execution_count": 0,
      "outputs": []
    },
    {
      "cell_type": "markdown",
      "metadata": {
        "id": "RXFpYE-NnUoz",
        "colab_type": "text"
      },
      "source": [
        "Part 1: Partition the video into frames and save within a temp folder."
      ]
    },
    {
      "cell_type": "code",
      "metadata": {
        "id": "E-bhrKFzbc5v",
        "colab_type": "code",
        "colab": {
          "base_uri": "https://localhost:8080/",
          "height": 34
        },
        "outputId": "82e426cf-1b7e-4fe3-f1af-ee367d44c0e4"
      },
      "source": [
        "# Uses google colab for this, you may have to use your own.\n",
        "from google.colab import drive\n",
        "drive.mount('/content/drive')"
      ],
      "execution_count": 122,
      "outputs": [
        {
          "output_type": "stream",
          "text": [
            "Drive already mounted at /content/drive; to attempt to forcibly remount, call drive.mount(\"/content/drive\", force_remount=True).\n"
          ],
          "name": "stdout"
        }
      ]
    },
    {
      "cell_type": "code",
      "metadata": {
        "id": "YqLGDOgencs6",
        "colab_type": "code",
        "colab": {
          "base_uri": "https://localhost:8080/",
          "height": 51
        },
        "outputId": "e8a5d2b8-58b8-466e-bd74-d747c1d71388"
      },
      "source": [
        "cd drive/'My Drive'/'DLP Program'"
      ],
      "execution_count": 123,
      "outputs": [
        {
          "output_type": "stream",
          "text": [
            "[Errno 2] No such file or directory: 'drive/My Drive/DLP Program'\n",
            "/content/drive/My Drive/DLP Program\n"
          ],
          "name": "stdout"
        }
      ]
    },
    {
      "cell_type": "code",
      "metadata": {
        "id": "L163t0QzoKka",
        "colab_type": "code",
        "colab": {}
      },
      "source": [
        "videoFile = \"drumming.MP4\"\n",
        "# input(videoFile)"
      ],
      "execution_count": 0,
      "outputs": []
    },
    {
      "cell_type": "code",
      "metadata": {
        "id": "PkzqewoGoSt5",
        "colab_type": "code",
        "colab": {}
      },
      "source": [
        "# Breaks the video by frames for training set\n",
        "cap = cv2.VideoCapture(videoFile)\n",
        "x=1; count = 0\n",
        "while(cap.isOpened()):\n",
        "    # Current frame number\n",
        "    frameId = cap.get(1)\n",
        "    ret, frame = cap.read()\n",
        "    if (ret != True):\n",
        "        break\n",
        "    # Saves every 10th frame in the video, can be changed \n",
        "    if (frameId % 10 == 0): \n",
        "        filename ='temp/' + videoFile.split(' ')[0] +\"_frame%d.jpg\" % count;\n",
        "        count+=1\n",
        "        cv2.imwrite(filename, frame)\n",
        "cap.release()"
      ],
      "execution_count": 0,
      "outputs": []
    },
    {
      "cell_type": "markdown",
      "metadata": {
        "id": "lPv4qoUwrdGp",
        "colab_type": "text"
      },
      "source": [
        "Part 2: Prepare the model we chose, this is what ours will look like for now"
      ]
    },
    {
      "cell_type": "code",
      "metadata": {
        "id": "ukS5FGyfrgL4",
        "colab_type": "code",
        "colab": {}
      },
      "source": [
        "# Uses the base model of pre-trained VGG16 model\n",
        "base_model = VGG16(weights='imagenet', include_top=False)\n",
        "\n",
        "# Defining the architecture \n",
        "model = Sequential()\n",
        "model.add(Dense(1000, activation='relu', input_shape=(25088,)))\n",
        "model.add(Dropout(0.5))\n",
        "model.add(Dense(500, activation='relu'))\n",
        "model.add(Dropout(0.5))\n",
        "model.add(Dense(100, activation='relu'))\n",
        "model.add(Dropout(0.5))\n",
        "model.add(Dense(3, activation='softmax'))"
      ],
      "execution_count": 0,
      "outputs": []
    },
    {
      "cell_type": "code",
      "metadata": {
        "id": "jaK9MAirsJh3",
        "colab_type": "code",
        "colab": {}
      },
      "source": [
        "# compiling the model\n",
        "model.compile(loss='categorical_crossentropy',optimizer='Adam',metrics=['accuracy'])"
      ],
      "execution_count": 0,
      "outputs": []
    },
    {
      "cell_type": "markdown",
      "metadata": {
        "id": "FtJrNedAsZjq",
        "colab_type": "text"
      },
      "source": [
        "Part 3: Begin analyzing the frames!"
      ]
    },
    {
      "cell_type": "code",
      "metadata": {
        "id": "KNc9Ol53se2W",
        "colab_type": "code",
        "colab": {}
      },
      "source": [
        "# creating two lists to store predicted and actual tags\n",
        "predict = []\n",
        "\n",
        "images = glob(\"temp/*.jpg\")\n",
        "prediction_images = []\n",
        "for i in range(len(images)):\n",
        "    img = image.load_img(images[i], target_size=(224,224,3))\n",
        "    img = image.img_to_array(img)\n",
        "    img = img/255\n",
        "    prediction_images.append(img)\n",
        "prediction_images = np.array(prediction_images)\n",
        "prediction_images = base_model.predict(prediction_images)\n",
        "prediction_images = prediction_images.reshape(prediction_images.shape[0], 7*7*512)\n",
        "prediction = model.predict(prediction_images)"
      ],
      "execution_count": 0,
      "outputs": []
    },
    {
      "cell_type": "code",
      "metadata": {
        "id": "7LzIYSePt6I6",
        "colab_type": "code",
        "colab": {
          "base_uri": "https://localhost:8080/",
          "height": 289
        },
        "outputId": "04b612c7-0ee6-4e69-e907-228b7508388d"
      },
      "source": [
        "# Get timestamps\n",
        "clip = VideoFileClip(videoFile)\n",
        "timestamps = np.arange(0.0, clip.duration, clip.duration/(len(prediction)))\n",
        "\n",
        "# Get prediction values here\n",
        "prediction = prediction.transpose()\n",
        "pockets = prediction[2]\n",
        "erratic = prediction[1]\n",
        "drumming = prediction[0]\n",
        "print(prediction)\n",
        "print(timestamps)"
      ],
      "execution_count": 129,
      "outputs": [
        {
          "output_type": "stream",
          "text": [
            "[[0.33253565 0.32343656 0.34652483 0.3392328  0.33977753 0.33927512\n",
            "  0.33142912 0.33718488 0.34123474 0.34658054 0.34944865 0.3377379\n",
            "  0.33961123 0.35538137 0.34802234 0.3470236  0.34424794 0.34662652\n",
            "  0.33328116 0.339229   0.33308092 0.3267522 ]\n",
            " [0.44806942 0.46542174 0.44386533 0.43381977 0.41651365 0.42798322\n",
            "  0.42706427 0.42673674 0.4221103  0.4135228  0.410914   0.42590305\n",
            "  0.41160592 0.39098212 0.41547632 0.410524   0.41702774 0.40394968\n",
            "  0.42784438 0.4219961  0.43134895 0.4298269 ]\n",
            " [0.2193949  0.2111417  0.20960988 0.2269474  0.24370891 0.23274171\n",
            "  0.24150664 0.2360784  0.23665492 0.23989664 0.23963733 0.23635903\n",
            "  0.24878286 0.25363657 0.23650129 0.24245238 0.23872437 0.24942379\n",
            "  0.23887448 0.23877493 0.2355701  0.24342102]]\n",
            "[0.         0.33681818 0.67363636 1.01045455 1.34727273 1.68409091\n",
            " 2.02090909 2.35772727 2.69454545 3.03136364 3.36818182 3.705\n",
            " 4.04181818 4.37863636 4.71545455 5.05227273 5.38909091 5.72590909\n",
            " 6.06272727 6.39954545 6.73636364 7.07318182]\n"
          ],
          "name": "stdout"
        }
      ]
    },
    {
      "cell_type": "code",
      "metadata": {
        "id": "Y2nVZTAI9W-p",
        "colab_type": "code",
        "colab": {
          "base_uri": "https://localhost:8080/",
          "height": 295
        },
        "outputId": "2eac3148-6927-4b12-c0f4-92347cbd2f00"
      },
      "source": [
        "# Plot here!\n",
        "plt.title('Prediction results')\n",
        "plt.xlabel('Time (seconds)')\n",
        "plt.ylabel('Guess (%)')\n",
        "\n",
        "plt.plot(timestamps, pockets)\n",
        "plt.plot(timestamps, erratic)\n",
        "plt.plot(timestamps, drumming)\n",
        "\n",
        "plt.savefig(videoFile.split('.')[0] + '_Predictions.png')"
      ],
      "execution_count": 130,
      "outputs": [
        {
          "output_type": "display_data",
          "data": {
            "image/png": "[encoded data removed]",
            "text/plain": [
              "<Figure size 432x288 with 1 Axes>"
            ]
          },
          "metadata": {
            "tags": []
          }
        }
      ]
    },
    {
      "cell_type": "code",
      "metadata": {
        "id": "CTdyAuMYGB_M",
        "colab_type": "code",
        "colab": {
          "base_uri": "https://localhost:8080/",
          "height": 54
        },
        "outputId": "9cb897c4-155f-4d92-e743-263428b17831"
      },
      "source": [
        "# Creates the json here!\n",
        "import json\n",
        "data1 = list(zip(timestamps, pockets))\n",
        "data2 = list(zip(timestamps, erratic))\n",
        "data3 = list(zip(timestamps, drumming))\n",
        "\n",
        "data1 = [list([float(i) for i in ele]) for ele in data1] \n",
        "data2 = [list([float(i) for i in ele]) for ele in data2] \n",
        "data3 = [list([float(i) for i in ele]) for ele in data3]\n",
        "\n",
        "print(data1)\n",
        "dicttemp = {'pockets':data1,'erratic':data2,'drumming':data3}\n",
        "with open(videoFile.split('.')[0] + '_data.json', 'w') as f:\n",
        "    json.dump(dicttemp, f)"
      ],
      "execution_count": 131,
      "outputs": [
        {
          "output_type": "stream",
          "text": [
            "[[0.0, 0.21939490735530853], [0.33681818181818185, 0.2111417055130005], [0.6736363636363637, 0.20960988104343414], [1.0104545454545455, 0.22694739699363708], [1.3472727272727274, 0.24370890855789185], [1.6840909090909093, 0.23274171352386475], [2.020909090909091, 0.2415066361427307], [2.357727272727273, 0.2360783964395523], [2.694545454545455, 0.23665492236614227], [3.0313636363636367, 0.23989664018154144], [3.3681818181818186, 0.2396373301744461], [3.7050000000000005, 0.23635903000831604], [4.041818181818182, 0.24878285825252533], [4.378636363636364, 0.25363656878471375], [4.715454545454546, 0.2365012913942337], [5.052272727272728, 0.24245238304138184], [5.38909090909091, 0.23872436583042145], [5.7259090909090915, 0.2494237869977951], [6.062727272727273, 0.23887448012828827], [6.399545454545455, 0.23877492547035217], [6.736363636363637, 0.23557010293006897], [7.073181818181819, 0.2434210181236267]]\n"
          ],
          "name": "stdout"
        }
      ]
    }
  ]
}