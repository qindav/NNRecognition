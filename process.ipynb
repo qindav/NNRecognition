{
  "nbformat": 4,
  "nbformat_minor": 0,
  "metadata": {
    "colab": {
      "name": "process.ipynb",
      "provenance": [],
      "collapsed_sections": []
    },
    "kernelspec": {
      "name": "python3",
      "display_name": "Python 3"
    }
  },
  "cells": [
    {
      "cell_type": "code",
      "metadata": {
        "id": "8JP83zPNchsi",
        "colab_type": "code",
        "outputId": "85b57513-0340-4074-fb28-5c59b82cb2b6",
        "colab": {
          "base_uri": "https://localhost:8080/",
          "height": 80
        }
      },
      "source": [
        "# Lots of headers, though some may be unused rn\n",
        "import cv2\n",
        "import math\n",
        "import matplotlib.pyplot as plt\n",
        "%matplotlib inline\n",
        "import pandas as pd\n",
        "from keras.preprocessing import image\n",
        "import numpy as np\n",
        "from keras.utils import np_utils\n",
        "from skimage.transform import resize\n",
        "from sklearn.model_selection import train_test_split\n",
        "from glob import glob\n",
        "from tqdm import tqdm\n",
        "\n",
        "import keras\n",
        "from keras.models import Sequential\n",
        "from keras.applications.vgg16 import VGG16\n",
        "from keras.layers import Dense, InputLayer, Dropout, Flatten\n",
        "from keras.layers import Conv2D, MaxPooling2D, GlobalMaxPooling2D\n",
        "\n",
        "from moviepy.editor import VideoFileClip"
      ],
      "execution_count": 0,
      "outputs": [
        {
          "output_type": "stream",
          "text": [
            "Using TensorFlow backend.\n"
          ],
          "name": "stderr"
        },
        {
          "output_type": "display_data",
          "data": {
            "text/html": [
              "<p style=\"color: red;\">\n",
              "The default version of TensorFlow in Colab will soon switch to TensorFlow 2.x.<br>\n",
              "We recommend you <a href=\"https://www.tensorflow.org/guide/migrate\" target=\"_blank\">upgrade</a> now \n",
              "or ensure your notebook will continue to use TensorFlow 1.x via the <code>%tensorflow_version 1.x</code> magic:\n",
              "<a href=\"https://colab.research.google.com/notebooks/tensorflow_version.ipynb\" target=\"_blank\">more info</a>.</p>\n"
            ],
            "text/plain": [
              "<IPython.core.display.HTML object>"
            ]
          },
          "metadata": {
            "tags": []
          }
        }
      ]
    },
    {
      "cell_type": "markdown",
      "metadata": {
        "id": "RXFpYE-NnUoz",
        "colab_type": "text"
      },
      "source": [
        "Part 1: Partition the video into frames and save within a temp folder."
      ]
    },
    {
      "cell_type": "code",
      "metadata": {
        "id": "E-bhrKFzbc5v",
        "colab_type": "code",
        "outputId": "592af9ad-0aea-4650-b995-9c54470787ad",
        "colab": {
          "base_uri": "https://localhost:8080/",
          "height": 34
        }
      },
      "source": [
        "# Uses google colab for this, you may have to use your own.\n",
        "from google.colab import drive\n",
        "drive.mount('/content/drive')"
      ],
      "execution_count": 0,
      "outputs": [
        {
          "output_type": "stream",
          "text": [
            "Drive already mounted at /content/drive; to attempt to forcibly remount, call drive.mount(\"/content/drive\", force_remount=True).\n"
          ],
          "name": "stdout"
        }
      ]
    },
    {
      "cell_type": "code",
      "metadata": {
        "id": "YqLGDOgencs6",
        "colab_type": "code",
        "colab": {}
      },
      "source": [
        "cd drive/'My Drive'/'DLP Program'"
      ],
      "execution_count": 0,
      "outputs": []
    },
    {
      "cell_type": "code",
      "metadata": {
        "id": "TgVlh8CVDk3k",
        "colab_type": "code",
        "colab": {}
      },
      "source": [
        "ls"
      ],
      "execution_count": 0,
      "outputs": []
    },
    {
      "cell_type": "code",
      "metadata": {
        "id": "L163t0QzoKka",
        "colab_type": "code",
        "colab": {}
      },
      "source": [
        "videoFile = \"drumming2.MP4\"\n",
        "# The input function doesn't seem to work on colab, manually editing the file name for now.\n",
        "# input(videoFile)"
      ],
      "execution_count": 0,
      "outputs": []
    },
    {
      "cell_type": "code",
      "metadata": {
        "id": "PkzqewoGoSt5",
        "colab_type": "code",
        "colab": {}
      },
      "source": [
        "# Breaks the video by frames for training set\n",
        "cap = cv2.VideoCapture(videoFile)\n",
        "x=1; count = 0\n",
        "while(cap.isOpened()):\n",
        "    # Current frame number\n",
        "    frameId = cap.get(1)\n",
        "    ret, frame = cap.read()\n",
        "    if (ret != True):\n",
        "        break\n",
        "    # Saves every 10th frame in the video, can be changed \n",
        "    if (frameId % 10 == 0): \n",
        "        filename ='temp/' + videoFile.split(' ')[0] +\"_frame%d.jpg\" % count;\n",
        "        count+=1\n",
        "        cv2.imwrite(filename, frame)\n",
        "cap.release()"
      ],
      "execution_count": 0,
      "outputs": []
    },
    {
      "cell_type": "markdown",
      "metadata": {
        "id": "lPv4qoUwrdGp",
        "colab_type": "text"
      },
      "source": [
        "Part 2: Prepare the model we chose, this is what ours will look like for now"
      ]
    },
    {
      "cell_type": "code",
      "metadata": {
        "id": "ukS5FGyfrgL4",
        "colab_type": "code",
        "colab": {}
      },
      "source": [
        "# Uses the base model of pre-trained VGG16 model\n",
        "base_model = VGG16(weights='imagenet', include_top=False)\n",
        "\n",
        "# Defining the architecture \n",
        "model = Sequential()\n",
        "model.add(Dense(1000, activation='relu', input_shape=(25088,)))\n",
        "model.add(Dropout(0.5))\n",
        "model.add(Dense(600, activation='relu'))\n",
        "model.add(Dropout(0.5))\n",
        "model.add(Dense(300, activation='relu'))\n",
        "model.add(Dropout(0.5))\n",
        "model.add(Dense(100, activation='relu'))\n",
        "model.add(Dropout(0.5))\n",
        "model.add(Dense(3, activation='softmax'))"
      ],
      "execution_count": 0,
      "outputs": []
    },
    {
      "cell_type": "code",
      "metadata": {
        "id": "jaK9MAirsJh3",
        "colab_type": "code",
        "outputId": "2b94768d-3c61-418c-f364-9fe8e0cb89d8",
        "colab": {
          "base_uri": "https://localhost:8080/",
          "height": 85
        }
      },
      "source": [
        "# compiling the model\n",
        "model.compile(loss='categorical_crossentropy',optimizer='Adam',metrics=['accuracy'])"
      ],
      "execution_count": 0,
      "outputs": [
        {
          "output_type": "stream",
          "text": [
            "WARNING:tensorflow:From /usr/local/lib/python3.6/dist-packages/keras/optimizers.py:793: The name tf.train.Optimizer is deprecated. Please use tf.compat.v1.train.Optimizer instead.\n",
            "\n",
            "WARNING:tensorflow:From /usr/local/lib/python3.6/dist-packages/keras/backend/tensorflow_backend.py:3576: The name tf.log is deprecated. Please use tf.math.log instead.\n",
            "\n"
          ],
          "name": "stdout"
        }
      ]
    },
    {
      "cell_type": "markdown",
      "metadata": {
        "id": "FtJrNedAsZjq",
        "colab_type": "text"
      },
      "source": [
        "Part 3: Begin analyzing the frames!"
      ]
    },
    {
      "cell_type": "code",
      "metadata": {
        "id": "KNc9Ol53se2W",
        "colab_type": "code",
        "colab": {}
      },
      "source": [
        "# creating two lists to store predicted and actual tags\n",
        "predict = []\n",
        "\n",
        "images = glob(\"temp/*.jpg\")\n",
        "prediction_images = []\n",
        "for i in range(len(images)):\n",
        "    img = image.load_img(images[i], target_size=(224,224,3))\n",
        "    img = image.img_to_array(img)\n",
        "    img = img/255\n",
        "    prediction_images.append(img)\n",
        "prediction_images = np.array(prediction_images)\n",
        "prediction_images = base_model.predict(prediction_images)\n",
        "prediction_images = prediction_images.reshape(prediction_images.shape[0], 7*7*512)\n",
        "prediction = model.predict(prediction_images)"
      ],
      "execution_count": 0,
      "outputs": []
    },
    {
      "cell_type": "code",
      "metadata": {
        "id": "7LzIYSePt6I6",
        "colab_type": "code",
        "colab": {}
      },
      "source": [
        "# Get timestamps\n",
        "clip = VideoFileClip(videoFile)\n",
        "timestamps = np.arange(0.0, clip.duration, clip.duration/(len(prediction)))\n",
        "\n",
        "# Get prediction values here\n",
        "prediction = prediction.transpose()\n",
        "pockets = prediction[0]\n",
        "erratic = prediction[1]\n",
        "drumming = prediction[2]"
      ],
      "execution_count": 0,
      "outputs": []
    },
    {
      "cell_type": "code",
      "metadata": {
        "id": "Y2nVZTAI9W-p",
        "colab_type": "code",
        "outputId": "930c6247-f591-460e-913e-602ddaf168f8",
        "colab": {
          "base_uri": "https://localhost:8080/",
          "height": 302
        }
      },
      "source": [
        "# Plot here!\n",
        "plt.title('Prediction results')\n",
        "plt.xlabel('Time (seconds)')\n",
        "plt.ylabel('Guess (%)')\n",
        "\n",
        "plt.plot(timestamps, pockets, label=\"Pockets\")\n",
        "plt.plot(timestamps, erratic, label=\"Erratic\")\n",
        "plt.plot(timestamps, drumming, label=\"Drumming\")\n",
        "\n",
        "plt.legend(bbox_to_anchor=(0., 1.02, 1., .102), loc='lower left',\n",
        "           ncol=3, mode=\"expand\", borderaxespad=0.)\n",
        "\n",
        "plt.savefig(videoFile.split('.')[0] + '_Predictions.png')"
      ],
      "execution_count": 0,
      "outputs": [
        {
          "output_type": "display_data",
          "data": {
            "image/png": "[encoded data removed]",
            "text/plain": [
              "<Figure size 432x288 with 1 Axes>"
            ]
          },
          "metadata": {
            "tags": []
          }
        }
      ]
    },
    {
      "cell_type": "code",
      "metadata": {
        "id": "CTdyAuMYGB_M",
        "colab_type": "code",
        "outputId": "d4a222c2-2b95-4aa9-cc85-3cdd79f48a36",
        "colab": {
          "base_uri": "https://localhost:8080/",
          "height": 54
        }
      },
      "source": [
        "# Creates the json here!\n",
        "import json\n",
        "data1 = list(zip(timestamps, pockets))\n",
        "data2 = list(zip(timestamps, erratic))\n",
        "data3 = list(zip(timestamps, drumming))\n",
        "\n",
        "data1 = [list([float(i) for i in ele]) for ele in data1] \n",
        "data2 = [list([float(i) for i in ele]) for ele in data2] \n",
        "data3 = [list([float(i) for i in ele]) for ele in data3]\n",
        "\n",
        "print(data1)\n",
        "dicttemp = {'pockets':data1,'erratic':data2,'drumming':data3}\n",
        "with open(videoFile.split('.')[0] + '_data.json', 'w') as f:\n",
        "    json.dump(dicttemp, f)"
      ],
      "execution_count": 0,
      "outputs": [
        {
          "output_type": "stream",
          "text": [
            "[[0.0, 0.46010881662368774], [0.08616279069767442, 0.5219530463218689], [0.17232558139534884, 0.49889132380485535], [0.2584883720930233, 0.44781917333602905], [0.3446511627906977, 0.4891711473464966], [0.4308139534883721, 0.5196598172187805], [0.5169767441860466, 0.4932749271392822], [0.603139534883721, 0.5032061338424683], [0.6893023255813954, 0.46624234318733215], [0.7754651162790698, 0.47123146057128906], [0.8616279069767442, 0.4689677953720093], [0.9477906976744186, 0.4559348225593567], [1.033953488372093, 0.44437307119369507], [1.1201162790697674, 0.4629879891872406], [1.206279069767442, 0.5215727686882019], [1.2924418604651162, 0.5231600999832153], [1.3786046511627907, 0.530174732208252], [1.4647674418604653, 0.4871434271335602], [1.5509302325581396, 0.4883786141872406], [1.637093023255814, 0.48415428400039673], [1.7232558139534884, 0.4931049048900604], [1.8094186046511629, 0.46482810378074646], [1.8955813953488372, 0.4619115889072418], [1.9817441860465117, 0.4871882498264313], [2.067906976744186, 0.47196581959724426], [2.1540697674418605, 0.5566296577453613], [2.240232558139535, 0.49102601408958435], [2.3263953488372096, 0.5263837575912476], [2.412558139534884, 0.4767032563686371], [2.498720930232558, 0.5903282165527344], [2.5848837209302324, 0.5093420743942261], [2.671046511627907, 0.5719772577285767], [2.7572093023255815, 0.5085736513137817], [2.8433720930232558, 0.5319488644599915], [2.9295348837209305, 0.5665609836578369], [3.015697674418605, 0.4992164075374603], [3.101860465116279, 0.5716153383255005], [3.1880232558139534, 0.456943541765213], [3.274186046511628, 0.4586696922779083], [3.3603488372093024, 0.48151695728302], [3.4465116279069767, 0.5757384896278381], [3.5326744186046515, 0.5240945816040039], [3.6188372093023258, 0.5562601685523987], [3.705, 0.5557750463485718], [3.7911627906976744, 0.6486502885818481], [3.877325581395349, 0.584169864654541], [3.9634883720930234, 0.6070746779441833], [4.049651162790698, 0.5789750814437866], [4.135813953488372, 0.5899045467376709], [4.221976744186047, 0.6382524371147156], [4.308139534883721, 0.49927809834480286], [4.394302325581395, 0.49092337489128113], [4.48046511627907, 0.5971648693084717], [4.566627906976744, 0.5308603644371033], [4.652790697674419, 0.5287248492240906], [4.738953488372093, 0.5323766469955444], [4.825116279069768, 0.5439603328704834], [4.911279069767442, 0.4832821786403656], [4.997441860465116, 0.6073636412620544], [5.083604651162791, 0.5427940487861633], [5.169767441860465, 0.547828197479248], [5.25593023255814, 0.5407050251960754], [5.342093023255814, 0.6006250381469727], [5.428255813953489, 0.506283700466156], [5.514418604651163, 0.6111430525779724], [5.600581395348837, 0.6150844097137451], [5.6867441860465116, 0.5859435796737671], [5.772906976744186, 0.6053021550178528], [5.859069767441861, 0.6043780446052551], [5.945232558139535, 0.6011914610862732], [6.03139534883721, 0.5883128046989441], [6.117558139534884, 0.5816813111305237], [6.203720930232558, 0.5882589817047119], [6.2898837209302325, 0.591714084148407], [6.376046511627907, 0.5901405811309814], [6.462209302325582, 0.5748599171638489], [6.548372093023256, 0.584598958492279], [6.634534883720931, 0.5865009427070618], [6.720697674418605, 0.578476071357727], [6.806860465116279, 0.5839628577232361], [6.8930232558139535, 0.5635507106781006], [6.979186046511628, 0.5690404176712036], [7.065348837209303, 0.5607040524482727], [7.151511627906977, 0.5754395127296448], [7.2376744186046515, 0.5711625814437866], [7.323837209302326, 0.5626602172851562]]\n"
          ],
          "name": "stdout"
        }
      ]
    }
  ]
}